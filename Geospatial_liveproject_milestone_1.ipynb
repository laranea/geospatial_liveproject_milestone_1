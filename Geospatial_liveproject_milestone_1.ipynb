{
 "cells": [
  {
   "cell_type": "markdown",
   "metadata": {},
   "source": [
    "# Geospatial LiveProject Milestone 1"
   ]
  },
  {
   "cell_type": "markdown",
   "metadata": {},
   "source": [
    "This Jupyter Notebook is the first milestone deliverable for a Manning liveProject called [Monitoring Changes in Surface Water Using Satellite Image Data](https://www.manning.com/liveproject/monitoring-changes-in-surface-water-using-satellite-image-data).   \n",
    "\n",
    "I am excited about the project. Satellite datasets are available for free from the European Space Agency (ESA) and from NASA.  I'm excited to learn the workflows necessary to get this information, process it, and analyze it in ways that allow for tangible real-world insights.  \n",
    "\n",
    "In general, I'm trying to sharpen my skills for working with unstructured data.   Previously I've done an initial dive into Natural Language Processing (NLP) to analyze text data.   Actually working with the data gives one an intuition of what kinds of real-world problems can and cannot be solved.  It also gives one a sense of what areas are low-hanging-fruit that can perhaps be approached as a personal project, and what would require serious infrastructure and computing capacity.\n",
    "\n",
    "## The Deliverable\n",
    "\n",
    "The requirements for the first milestone deliverable are to post a Jupyter Notebook on Github:\n",
    "* demonstrating reading in a satelite dataset using [rasterio](https://rasterio.readthedocs.io/en/latest/)\n",
    "* demonstrate a function that carries out a manipulation of that image using Keras/Tensorflow.\n",
    "\n",
    "\n",
    "## Other Things I've Learned in the Process\n",
    "\n",
    "While the deliverable is relatively straightforward, this week I've learned a lot more that I'm excited about.  \n",
    "* __Conda Environments:__ I learned how to set up Conda environments, and I'm running this in a Conda environment.  Here's a guide to [Conda](https://towardsdatascience.com/a-guide-to-conda-environments-bc6180fc533).   \n",
    "* __Deep Learning + Keras/Tensorflow:__ The course assumes some knowledge of creating deep learning models using Keras/Tensorflow.  I have no experience with that, so I did two DataCamp courses this week related to that, and now I feel like I have a good (very basic) understanding both conceptually and practically about Deep Learning and how to build Convolutional Neural Network models in Keras. The two courses were 1) [Introduction to Deep Learning in Python](https://learn.datacamp.com/courses/introduction-to-deep-learning-in-python), and 2) [Image Processing with Keras in Python](https://learn.datacamp.com/courses/image-processing-with-keras-in-python)\n",
    "* __Git + Github:__ I'm learning how to post Jupyter Notebooks on Github.  On a day-to-day basis, I have traditionally used R, and work largely with economic and financial data.  As I have been imporoving my data science workflows, I've started version controlling my projects to git, and recently posted my first rudimentary R package on Github.  As I try to develop healthy python workflows, this will be my first time version controlling Python projects and posting them to Github. \n",
    "\n"
   ]
  },
  {
   "cell_type": "code",
   "execution_count": null,
   "metadata": {},
   "outputs": [],
   "source": []
  }
 ],
 "metadata": {
  "kernelspec": {
   "display_name": "Python 3",
   "language": "python",
   "name": "python3"
  },
  "language_info": {
   "codemirror_mode": {
    "name": "ipython",
    "version": 3
   },
   "file_extension": ".py",
   "mimetype": "text/x-python",
   "name": "python",
   "nbconvert_exporter": "python",
   "pygments_lexer": "ipython3",
   "version": "3.7.0"
  }
 },
 "nbformat": 4,
 "nbformat_minor": 4
}
